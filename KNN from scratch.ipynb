{
 "cells": [
  {
   "cell_type": "code",
   "execution_count": 1,
   "metadata": {},
   "outputs": [
    {
     "name": "stderr",
     "output_type": "stream",
     "text": [
      "Using TensorFlow backend.\n"
     ]
    }
   ],
   "source": [
    "from keras.datasets import fashion_mnist\n",
    "import numpy as np\n",
    "import scipy.optimize as opt\n",
    "import matplotlib.pyplot as plt\n",
    "from random import randrange\n",
    "import itertools\n",
    "import time"
   ]
  },
  {
   "cell_type": "markdown",
   "metadata": {},
   "source": [
    "## Loading Dataset"
   ]
  },
  {
   "cell_type": "code",
   "execution_count": 2,
   "metadata": {},
   "outputs": [],
   "source": [
    "(X_train, y_train), (X_test, y_test) = fashion_mnist.load_data()"
   ]
  },
  {
   "cell_type": "code",
   "execution_count": 3,
   "metadata": {},
   "outputs": [],
   "source": [
    "# define k neighbor range\n",
    "neighbor_range_lower=4\n",
    "neighbor_range_upper=5\n",
    "\n",
    "# Distance type, cosine distance produced the best outcome during the study\n",
    "# 'default' - L2 distance\n",
    "# 'manhattan' - Manhattan distance\n",
    "# 'cosine' - Cosine distance\n",
    "\n",
    "dist_type = 'l2'"
   ]
  },
  {
   "cell_type": "code",
   "execution_count": 4,
   "metadata": {},
   "outputs": [],
   "source": [
    "## Data Pre-processing"
   ]
  },
  {
   "cell_type": "code",
   "execution_count": 5,
   "metadata": {},
   "outputs": [],
   "source": [
    "X_train = X_train.reshape(60000, 784)\n",
    "X_test = X_test.reshape(10000, 784)"
   ]
  },
  {
   "cell_type": "code",
   "execution_count": 6,
   "metadata": {},
   "outputs": [],
   "source": [
    "# global centering\n",
    "X_train = X_train - X_train.mean(axis=0)\n",
    "X_test = X_test - X_test.mean(axis=0)\n",
    "\n",
    "\n",
    "# local centering\n",
    "X_train -= X_train.mean(axis=1).reshape(X_train.shape[0], -1)\n",
    "X_test -= X_test.mean(axis=1).reshape(X_test.shape[0], -1)"
   ]
  },
  {
   "cell_type": "markdown",
   "metadata": {},
   "source": [
    "## Computing Distances"
   ]
  },
  {
   "cell_type": "code",
   "execution_count": 7,
   "metadata": {},
   "outputs": [],
   "source": [
    "def compute_distances(X_train, X_test, dist_type='l2'):\n",
    "    if dist_type == 'manhattan':\n",
    "        # Compute Manhattan distance\n",
    "        return distance.cdist(X_train, X_test, 'cityblock').T\n",
    "    elif dist_type == 'cosine':\n",
    "        # Compute cosine distance\n",
    "        return distance.cdist(X_train, X_test, 'cosine').T\n",
    "    elif dist_type == 'l2':\n",
    "        # Compute L2 distance - (x - y)**2 = X**2 + y**2 - 2xy\n",
    "        # result X_test.shape[0] row  x X_train.shape[0] column matrix\n",
    "        return -2 * np.dot(X_test, X_train.T) + np.sum(X_train**2, axis=1) + np.sum(X_test**2, axis=1)[:, np.newaxis]"
   ]
  },
  {
   "cell_type": "code",
   "execution_count": 8,
   "metadata": {},
   "outputs": [],
   "source": [
    "def predict(X_train, y_train, X_test, k):\n",
    "    dists = compute_distances(X_train, X_test, dist_type=dist_type)\n",
    "    y_pred = np.zeros(X_test.shape[0])\n",
    "\n",
    "    for i in range(X_test.shape[0]):\n",
    "        nearest_neighbors = []\n",
    "        labels = y_train[np.argsort(dists[i,:])].flatten()\n",
    "\n",
    "        # find k nearest neighbors\n",
    "        nearest_neighbors = labels[:k]\n",
    "\n",
    "        # find the most common label\n",
    "        max_label = nearest_neighbors[0]\n",
    "        for j in set(list(nearest_neighbors)):\n",
    "            num_labels = list(nearest_neighbors).count(j)\n",
    "            if num_labels > list(nearest_neighbors).count(max_label):\n",
    "                max_label = j\n",
    "        y_pred[i] = max_label\n",
    "        # y_pred[i] = most_common_neighbor(labels, k)\n",
    "    return y_pred"
   ]
  },
  {
   "cell_type": "markdown",
   "metadata": {},
   "source": [
    "## Prediction and predictive performace test with Cross Validation"
   ]
  },
  {
   "cell_type": "code",
   "execution_count": 9,
   "metadata": {},
   "outputs": [],
   "source": [
    "def cross_validation(X_train, y_train, k_neighbors, k_fold=10):\n",
    "    accuracy_list = []\n",
    "    print('k-NN with {} neighbors:'.format(k_neighbors))\n",
    "    if k_fold > 1:\n",
    "        for i in range(k_fold):\n",
    "            m = int(len(X_train) / k_fold * i)\n",
    "            n = int(len(X_train) / k_fold * (i + 1))   \n",
    "            k_fold_X_train = np.delete(X_train, np.s_[m:n], axis=0)\n",
    "            k_fold_y_train = np.delete(y_train, np.s_[m:n], axis=0)\n",
    "            k_fold_X_test = X_train[m:n]\n",
    "            k_fold_y_test = y_train[m:n]\n",
    "            y_pred = predict(k_fold_X_train, k_fold_y_train, k_fold_X_test, k_neighbors)\n",
    "            accuracy = 100 * np.mean(y_pred == y_test.flatten()) \n",
    "            print('Test set index: {} to {}, accuracy {:.2f}%'.format(m, n, accuracy))\n",
    "            accuracy_list.append(accuracy)\n",
    "        return np.mean(accuracy_list)\n",
    "    else:\n",
    "        y_pred = predict(X_train, y_train, X_test, k_neighbors)\n",
    "        accuracy = 100 * np.mean(y_pred == y_test.flatten()) \n",
    "        print('Test accuracy {:.2f}%'.format(accuracy))\n",
    "        return accuracy"
   ]
  },
  {
   "cell_type": "code",
   "execution_count": 10,
   "metadata": {},
   "outputs": [
    {
     "name": "stdout",
     "output_type": "stream",
     "text": [
      "k-NN with 4 neighbors:\n",
      "Test accuracy 86.19%\n",
      "Average training accuracy: 86.19% when k is 4.  Runtime: 111.96\n",
      "Highest average accuracy is 86.19 when k is 4\n"
     ]
    }
   ],
   "source": [
    "# Finding optimised k within the give range\n",
    "test_accuracy = []\n",
    "neighbors = np.arange(neighbor_range_lower, neighbor_range_upper)\n",
    "\n",
    "cur_avg_accuracy = 0\n",
    "cur_k = 1\n",
    "\n",
    "for k in neighbors:\n",
    "    start_time = time.time()\n",
    "    avg_accuracy = cross_validation(X_train, y_train, k, k_fold=1)\n",
    "    end_time = time.time()\n",
    "    if avg_accuracy > cur_avg_accuracy:\n",
    "        cur_k = k\n",
    "        cur_avg_accuracy = avg_accuracy\n",
    "    test_accuracy.append(avg_accuracy)\n",
    "    print('Average training accuracy: {:.2f}% when k is {}.  Runtime: {:.2f}'.format(avg_accuracy, k, end_time-start_time))\n",
    "\n",
    "print('Highest average accuracy is {} when k is {}'.format(cur_avg_accuracy, cur_k))"
   ]
  },
  {
   "cell_type": "markdown",
   "metadata": {},
   "source": [
    "## Performance Evaluation"
   ]
  },
  {
   "cell_type": "code",
   "execution_count": 11,
   "metadata": {},
   "outputs": [],
   "source": [
    "def plot_confusion_matrix(cm, classes, title='Confusion matrix', cmap=plt.cm.Oranges):\n",
    "    plt.figure(figsize = (8,6))\n",
    "    plt.imshow(cm, interpolation='nearest', cmap=cmap, aspect='auto')\n",
    "    plt.title(title)\n",
    "    plt.colorbar()\n",
    "    x_tick_marks = np.arange(len(classes))\n",
    "    y_tick_marks = np.arange(-0.5, len(classes))\n",
    "    plt.xticks(x_tick_marks, classes)\n",
    "    plt.yticks(y_tick_marks, classes)\n",
    "    \n",
    "    thresh = cm.max() / 2\n",
    "    for i, j in itertools.product(range(cm.shape[0]), range(cm.shape[1])):\n",
    "        plt.text(j, i, format(cm[i, j], '.0f'), ha ='center', va ='center', \n",
    "                 color='white' if cm[i, j] > thresh else 'black')\n",
    "        \n",
    "    plt.ylabel('True label')\n",
    "    plt.xlabel('Predicted label')\n",
    "    plt.tight_layout()"
   ]
  },
  {
   "cell_type": "code",
   "execution_count": 12,
   "metadata": {},
   "outputs": [],
   "source": [
    "def compute_confusion_matrix(y_test, y_pred):\n",
    "    c_matrix = np.zeros((10, 10))\n",
    "    for a, p in zip(y_test, y_pred):\n",
    "        c_matrix[int(a)][int(p)] += 1\n",
    "    return c_matrix"
   ]
  },
  {
   "cell_type": "code",
   "execution_count": 13,
   "metadata": {},
   "outputs": [],
   "source": [
    "def precision(label, confusion_matrix):\n",
    "    col = confusion_matrix[:, label]\n",
    "    return confusion_matrix[label, label] / col.sum()\n",
    "    \n",
    "def recall(label, confusion_matrix):\n",
    "    row = confusion_matrix[label, :]\n",
    "    return confusion_matrix[label, label] / row.sum()\n",
    "\n",
    "def f1_score(label, confusion_matrix):\n",
    "    return 2 * precision(label, confusion_matrix)*recall(label, confusion_matrix) / \\\n",
    "        (precision(label, confusion_matrix) + recall(label, confusion_matrix))\n",
    "\n",
    "def support(label, confusion_matrix):\n",
    "    row = confusion_matrix[label, :]\n",
    "    return row.sum()"
   ]
  },
  {
   "cell_type": "code",
   "execution_count": 14,
   "metadata": {},
   "outputs": [
    {
     "name": "stdout",
     "output_type": "stream",
     "text": [
      "Training accuracy: 86.19% when k is 4\n"
     ]
    }
   ],
   "source": [
    "y_pred = predict(X_train, y_train, X_test, cur_k)\n",
    "accuracy = 100 * np.mean(y_pred == y_test.flatten())\n",
    "print('Training accuracy: {}% when k is {}'.format(accuracy, cur_k))"
   ]
  },
  {
   "cell_type": "code",
   "execution_count": 15,
   "metadata": {},
   "outputs": [
    {
     "data": {
      "image/png": "[encoded data removed]",
      "text/plain": [
       "<Figure size 576x432 with 2 Axes>"
      ]
     },
     "metadata": {
      "needs_background": "light"
     },
     "output_type": "display_data"
    }
   ],
   "source": [
    "cnf_matrix = compute_confusion_matrix(y_test, y_pred)\n",
    "np.set_printoptions(precision=2)\n",
    "\n",
    "plot_confusion_matrix(cnf_matrix, classes=list(set(y_test)),\n",
    "                      title='Confusion matrix')"
   ]
  },
  {
   "cell_type": "code",
   "execution_count": 16,
   "metadata": {},
   "outputs": [
    {
     "name": "stdout",
     "output_type": "stream",
     "text": [
      "Label precision recall f1-score support\n",
      "    0     0.801  0.839    0.820    1000\n",
      "    1     0.992  0.970    0.981    1000\n",
      "    2     0.754  0.806    0.779    1000\n",
      "    3     0.902  0.867    0.884    1000\n",
      "    4     0.798  0.772    0.785    1000\n",
      "    5     0.992  0.843    0.911    1000\n",
      "    6     0.641  0.640    0.640    1000\n",
      "    7     0.886  0.959    0.921    1000\n",
      "    8     0.982  0.955    0.968    1000\n",
      "    9     0.901  0.968    0.933    1000\n"
     ]
    }
   ],
   "source": [
    "# Print Classification Report\n",
    "print(f\"{'Label'}{'precision':>10} {'recall':>5} {'f1-score':>5} {'support':>5}\")\n",
    "for label in range(10):\n",
    "    print(f'{label:5d} {precision(label, cnf_matrix):9.3f} {recall(label, cnf_matrix):6.3f} \\\n",
    "{f1_score(label, cnf_matrix):8.3f}{support(label, cnf_matrix):8.0f}')"
   ]
  },
  {
   "cell_type": "code",
   "execution_count": null,
   "metadata": {},
   "outputs": [],
   "source": []
  }
 ],
 "metadata": {
  "kernelspec": {
   "display_name": "Python 3",
   "language": "python",
   "name": "python3"
  },
  "language_info": {
   "codemirror_mode": {
    "name": "ipython",
    "version": 3
   },
   "file_extension": ".py",
   "mimetype": "text/x-python",
   "name": "python",
   "nbconvert_exporter": "python",
   "pygments_lexer": "ipython3",
   "version": "3.7.4"
  }
 },
 "nbformat": 4,
 "nbformat_minor": 2
}
